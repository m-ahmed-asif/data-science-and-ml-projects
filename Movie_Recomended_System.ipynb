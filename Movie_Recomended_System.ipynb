{
  "nbformat": 4,
  "nbformat_minor": 0,
  "metadata": {
    "colab": {
      "provenance": [],
      "authorship_tag": "ABX9TyN4/JrPz85dW2iKMeVdpfqJ",
      "include_colab_link": true
    },
    "kernelspec": {
      "name": "python3",
      "display_name": "Python 3"
    },
    "language_info": {
      "name": "python"
    }
  },
  "cells": [
    {
      "cell_type": "markdown",
      "metadata": {
        "id": "view-in-github",
        "colab_type": "text"
      },
      "source": [
        "<a href=\"https://colab.research.google.com/github/m-ahmed-asif/data-science-and-ml-projects/blob/main/Movie_Recomended_System.ipynb\" target=\"_parent\"><img src=\"https://colab.research.google.com/assets/colab-badge.svg\" alt=\"Open In Colab\"/></a>"
      ]
    },
    {
      "cell_type": "markdown",
      "source": [
        "##Step 2 – Load Data into Pandas\n"
      ],
      "metadata": {
        "id": "8pK2r0wuQcmy"
      }
    },
    {
      "cell_type": "code",
      "source": [
        "# Install Kaggle CLI\n",
        "!pip install kaggle\n",
        "\n",
        "# Upload kaggle.json\n",
        "from google.colab import files\n",
        "files.upload()  # Upload the kaggle.json file you downloaded"
      ],
      "metadata": {
        "colab": {
          "base_uri": "https://localhost:8080/",
          "height": 310
        },
        "id": "_K0_6u0XTN1K",
        "outputId": "f6139c60-c1dd-417c-f5ab-66fb7f8321b5"
      },
      "execution_count": null,
      "outputs": [
        {
          "output_type": "stream",
          "name": "stdout",
          "text": [
            "Requirement already satisfied: kaggle in /usr/local/lib/python3.11/dist-packages (1.7.4.5)\n",
            "Requirement already satisfied: bleach in /usr/local/lib/python3.11/dist-packages (from kaggle) (6.2.0)\n",
            "Requirement already satisfied: certifi>=14.05.14 in /usr/local/lib/python3.11/dist-packages (from kaggle) (2025.8.3)\n",
            "Requirement already satisfied: charset-normalizer in /usr/local/lib/python3.11/dist-packages (from kaggle) (3.4.2)\n",
            "Requirement already satisfied: idna in /usr/local/lib/python3.11/dist-packages (from kaggle) (3.10)\n",
            "Requirement already satisfied: protobuf in /usr/local/lib/python3.11/dist-packages (from kaggle) (5.29.5)\n",
            "Requirement already satisfied: python-dateutil>=2.5.3 in /usr/local/lib/python3.11/dist-packages (from kaggle) (2.9.0.post0)\n",
            "Requirement already satisfied: python-slugify in /usr/local/lib/python3.11/dist-packages (from kaggle) (8.0.4)\n",
            "Requirement already satisfied: requests in /usr/local/lib/python3.11/dist-packages (from kaggle) (2.32.3)\n",
            "Requirement already satisfied: setuptools>=21.0.0 in /usr/local/lib/python3.11/dist-packages (from kaggle) (75.2.0)\n",
            "Requirement already satisfied: six>=1.10 in /usr/local/lib/python3.11/dist-packages (from kaggle) (1.17.0)\n",
            "Requirement already satisfied: text-unidecode in /usr/local/lib/python3.11/dist-packages (from kaggle) (1.3)\n",
            "Requirement already satisfied: tqdm in /usr/local/lib/python3.11/dist-packages (from kaggle) (4.67.1)\n",
            "Requirement already satisfied: urllib3>=1.15.1 in /usr/local/lib/python3.11/dist-packages (from kaggle) (2.5.0)\n",
            "Requirement already satisfied: webencodings in /usr/local/lib/python3.11/dist-packages (from kaggle) (0.5.1)\n"
          ]
        },
        {
          "output_type": "display_data",
          "data": {
            "text/plain": [
              "<IPython.core.display.HTML object>"
            ],
            "text/html": [
              "\n",
              "     <input type=\"file\" id=\"files-b8462445-f7f9-4c9b-beb5-ed4d1720a888\" name=\"files[]\" multiple disabled\n",
              "        style=\"border:none\" />\n",
              "     <output id=\"result-b8462445-f7f9-4c9b-beb5-ed4d1720a888\">\n",
              "      Upload widget is only available when the cell has been executed in the\n",
              "      current browser session. Please rerun this cell to enable.\n",
              "      </output>\n",
              "      <script>// Copyright 2017 Google LLC\n",
              "//\n",
              "// Licensed under the Apache License, Version 2.0 (the \"License\");\n",
              "// you may not use this file except in compliance with the License.\n",
              "// You may obtain a copy of the License at\n",
              "//\n",
              "//      http://www.apache.org/licenses/LICENSE-2.0\n",
              "//\n",
              "// Unless required by applicable law or agreed to in writing, software\n",
              "// distributed under the License is distributed on an \"AS IS\" BASIS,\n",
              "// WITHOUT WARRANTIES OR CONDITIONS OF ANY KIND, either express or implied.\n",
              "// See the License for the specific language governing permissions and\n",
              "// limitations under the License.\n",
              "\n",
              "/**\n",
              " * @fileoverview Helpers for google.colab Python module.\n",
              " */\n",
              "(function(scope) {\n",
              "function span(text, styleAttributes = {}) {\n",
              "  const element = document.createElement('span');\n",
              "  element.textContent = text;\n",
              "  for (const key of Object.keys(styleAttributes)) {\n",
              "    element.style[key] = styleAttributes[key];\n",
              "  }\n",
              "  return element;\n",
              "}\n",
              "\n",
              "// Max number of bytes which will be uploaded at a time.\n",
              "const MAX_PAYLOAD_SIZE = 100 * 1024;\n",
              "\n",
              "function _uploadFiles(inputId, outputId) {\n",
              "  const steps = uploadFilesStep(inputId, outputId);\n",
              "  const outputElement = document.getElementById(outputId);\n",
              "  // Cache steps on the outputElement to make it available for the next call\n",
              "  // to uploadFilesContinue from Python.\n",
              "  outputElement.steps = steps;\n",
              "\n",
              "  return _uploadFilesContinue(outputId);\n",
              "}\n",
              "\n",
              "// This is roughly an async generator (not supported in the browser yet),\n",
              "// where there are multiple asynchronous steps and the Python side is going\n",
              "// to poll for completion of each step.\n",
              "// This uses a Promise to block the python side on completion of each step,\n",
              "// then passes the result of the previous step as the input to the next step.\n",
              "function _uploadFilesContinue(outputId) {\n",
              "  const outputElement = document.getElementById(outputId);\n",
              "  const steps = outputElement.steps;\n",
              "\n",
              "  const next = steps.next(outputElement.lastPromiseValue);\n",
              "  return Promise.resolve(next.value.promise).then((value) => {\n",
              "    // Cache the last promise value to make it available to the next\n",
              "    // step of the generator.\n",
              "    outputElement.lastPromiseValue = value;\n",
              "    return next.value.response;\n",
              "  });\n",
              "}\n",
              "\n",
              "/**\n",
              " * Generator function which is called between each async step of the upload\n",
              " * process.\n",
              " * @param {string} inputId Element ID of the input file picker element.\n",
              " * @param {string} outputId Element ID of the output display.\n",
              " * @return {!Iterable<!Object>} Iterable of next steps.\n",
              " */\n",
              "function* uploadFilesStep(inputId, outputId) {\n",
              "  const inputElement = document.getElementById(inputId);\n",
              "  inputElement.disabled = false;\n",
              "\n",
              "  const outputElement = document.getElementById(outputId);\n",
              "  outputElement.innerHTML = '';\n",
              "\n",
              "  const pickedPromise = new Promise((resolve) => {\n",
              "    inputElement.addEventListener('change', (e) => {\n",
              "      resolve(e.target.files);\n",
              "    });\n",
              "  });\n",
              "\n",
              "  const cancel = document.createElement('button');\n",
              "  inputElement.parentElement.appendChild(cancel);\n",
              "  cancel.textContent = 'Cancel upload';\n",
              "  const cancelPromise = new Promise((resolve) => {\n",
              "    cancel.onclick = () => {\n",
              "      resolve(null);\n",
              "    };\n",
              "  });\n",
              "\n",
              "  // Wait for the user to pick the files.\n",
              "  const files = yield {\n",
              "    promise: Promise.race([pickedPromise, cancelPromise]),\n",
              "    response: {\n",
              "      action: 'starting',\n",
              "    }\n",
              "  };\n",
              "\n",
              "  cancel.remove();\n",
              "\n",
              "  // Disable the input element since further picks are not allowed.\n",
              "  inputElement.disabled = true;\n",
              "\n",
              "  if (!files) {\n",
              "    return {\n",
              "      response: {\n",
              "        action: 'complete',\n",
              "      }\n",
              "    };\n",
              "  }\n",
              "\n",
              "  for (const file of files) {\n",
              "    const li = document.createElement('li');\n",
              "    li.append(span(file.name, {fontWeight: 'bold'}));\n",
              "    li.append(span(\n",
              "        `(${file.type || 'n/a'}) - ${file.size} bytes, ` +\n",
              "        `last modified: ${\n",
              "            file.lastModifiedDate ? file.lastModifiedDate.toLocaleDateString() :\n",
              "                                    'n/a'} - `));\n",
              "    const percent = span('0% done');\n",
              "    li.appendChild(percent);\n",
              "\n",
              "    outputElement.appendChild(li);\n",
              "\n",
              "    const fileDataPromise = new Promise((resolve) => {\n",
              "      const reader = new FileReader();\n",
              "      reader.onload = (e) => {\n",
              "        resolve(e.target.result);\n",
              "      };\n",
              "      reader.readAsArrayBuffer(file);\n",
              "    });\n",
              "    // Wait for the data to be ready.\n",
              "    let fileData = yield {\n",
              "      promise: fileDataPromise,\n",
              "      response: {\n",
              "        action: 'continue',\n",
              "      }\n",
              "    };\n",
              "\n",
              "    // Use a chunked sending to avoid message size limits. See b/62115660.\n",
              "    let position = 0;\n",
              "    do {\n",
              "      const length = Math.min(fileData.byteLength - position, MAX_PAYLOAD_SIZE);\n",
              "      const chunk = new Uint8Array(fileData, position, length);\n",
              "      position += length;\n",
              "\n",
              "      const base64 = btoa(String.fromCharCode.apply(null, chunk));\n",
              "      yield {\n",
              "        response: {\n",
              "          action: 'append',\n",
              "          file: file.name,\n",
              "          data: base64,\n",
              "        },\n",
              "      };\n",
              "\n",
              "      let percentDone = fileData.byteLength === 0 ?\n",
              "          100 :\n",
              "          Math.round((position / fileData.byteLength) * 100);\n",
              "      percent.textContent = `${percentDone}% done`;\n",
              "\n",
              "    } while (position < fileData.byteLength);\n",
              "  }\n",
              "\n",
              "  // All done.\n",
              "  yield {\n",
              "    response: {\n",
              "      action: 'complete',\n",
              "    }\n",
              "  };\n",
              "}\n",
              "\n",
              "scope.google = scope.google || {};\n",
              "scope.google.colab = scope.google.colab || {};\n",
              "scope.google.colab._files = {\n",
              "  _uploadFiles,\n",
              "  _uploadFilesContinue,\n",
              "};\n",
              "})(self);\n",
              "</script> "
            ]
          },
          "metadata": {}
        }
      ]
    },
    {
      "cell_type": "code",
      "source": [
        "# Make folder & move token\n",
        "!mkdir ~/.kaggle\n",
        "!mv kaggle.json ~/.kaggle/\n",
        "!chmod 600 ~/.kaggle/kaggle.json"
      ],
      "metadata": {
        "id": "sK5tVlAhTbC3"
      },
      "execution_count": 5,
      "outputs": []
    },
    {
      "cell_type": "code",
      "source": [
        "# Download MovieLens dataset from Kaggle\n",
        "!kaggle datasets download -d grouplens/movielens-20m-dataset\n",
        "\n",
        "# Unzip\n",
        "!unzip movielens-20m-dataset.zip"
      ],
      "metadata": {
        "id": "sTxggreaTdos"
      },
      "execution_count": null,
      "outputs": []
    },
    {
      "cell_type": "code",
      "source": [
        "import pandas as pd\n",
        "\n",
        "movies = pd.read_csv(\"movie.csv\")  # File name inside dataset\n",
        "ratings = pd.read_csv(\"rating.csv\")\n",
        "\n",
        "movies.head(), ratings.head()"
      ],
      "metadata": {
        "colab": {
          "base_uri": "https://localhost:8080/"
        },
        "id": "LisXDlkTQzrt",
        "outputId": "8a10f554-df98-48bb-e54e-d90e206b6fa7"
      },
      "execution_count": 9,
      "outputs": [
        {
          "output_type": "execute_result",
          "data": {
            "text/plain": [
              "(   movieId                               title  \\\n",
              " 0        1                    Toy Story (1995)   \n",
              " 1        2                      Jumanji (1995)   \n",
              " 2        3             Grumpier Old Men (1995)   \n",
              " 3        4            Waiting to Exhale (1995)   \n",
              " 4        5  Father of the Bride Part II (1995)   \n",
              " \n",
              "                                         genres  \n",
              " 0  Adventure|Animation|Children|Comedy|Fantasy  \n",
              " 1                   Adventure|Children|Fantasy  \n",
              " 2                               Comedy|Romance  \n",
              " 3                         Comedy|Drama|Romance  \n",
              " 4                                       Comedy  ,\n",
              "    userId  movieId  rating            timestamp\n",
              " 0       1        2     3.5  2005-04-02 23:53:47\n",
              " 1       1       29     3.5  2005-04-02 23:31:16\n",
              " 2       1       32     3.5  2005-04-02 23:33:39\n",
              " 3       1       47     3.5  2005-04-02 23:32:07\n",
              " 4       1       50     3.5  2005-04-02 23:29:40)"
            ]
          },
          "metadata": {},
          "execution_count": 9
        }
      ]
    },
    {
      "cell_type": "code",
      "source": [
        "ratings.head(20)      # first 20 rows\n",
        "ratings.tail(20)      # last 20 rows\n",
        "ratings.sample(20)    # 20 random rows"
      ],
      "metadata": {
        "id": "AM84Cx4eWX6G"
      },
      "execution_count": null,
      "outputs": []
    },
    {
      "cell_type": "code",
      "source": [
        "# Step 1: Download & unzip small MovieLens dataset (fast)\n",
        "!wget https://files.grouplens.org/datasets/movielens/ml-latest-small.zip\n",
        "!unzip -o ml-latest-small.zip\n",
        "\n",
        "import pandas as pd\n",
        "\n",
        "# Step 2: Load ratings & movies\n",
        "ratings = pd.read_csv(\"ml-latest-small/ratings.csv\")\n",
        "movies = pd.read_csv(\"ml-latest-small/movies.csv\")\n",
        "\n",
        "# Step 3: Basic info\n",
        "print(\"Ratings shape:\", ratings.shape)\n",
        "print(\"Movies shape:\", movies.shape)\n",
        "print(\"\\nRatings preview:\")\n",
        "display(ratings.head())\n",
        "\n",
        "print(\"\\nMovies preview:\")\n",
        "display(movies.head())\n",
        "\n",
        "# Step 4: Missing values check\n",
        "print(\"\\nMissing values in Ratings:\")\n",
        "print(ratings.isnull().sum())\n",
        "print(\"\\nMissing values in Movies:\")\n",
        "print(movies.isnull().sum())\n",
        "\n",
        "# Step 5: Summary statistics for ratings\n",
        "print(\"\\nRatings Summary:\")\n",
        "print(ratings['rating'].describe())\n",
        "\n",
        "# Step 6: Top 10 most rated movies\n",
        "top_movies = (\n",
        "    ratings.groupby('movieId')\n",
        "    .size()\n",
        "    .reset_index(name='rating_count')\n",
        "    .merge(movies, on='movieId')\n",
        "    .sort_values('rating_count', ascending=False)\n",
        "    .head(10)\n",
        ")\n",
        "print(\"\\nTop 10 most rated movies:\")\n",
        "display(top_movies[['title', 'rating_count']])"
      ],
      "metadata": {
        "id": "Tf32TudDXHI9"
      },
      "execution_count": null,
      "outputs": []
    },
    {
      "cell_type": "markdown",
      "source": [
        "### 1. Average rating per movie\n"
      ],
      "metadata": {
        "id": "hhAuH7HmX8TU"
      }
    },
    {
      "cell_type": "code",
      "source": [
        "avg_ratings = ratings.groupby('movieId')['rating'].mean().reset_index()\n",
        "avg_ratings = avg_ratings.merge(movies[['movieId', 'title']], on='movieId')\n",
        "print(\"Top 10 highest rated movies (with at least 50 ratings):\")\n",
        "popular_movies = ratings.groupby('movieId').size()\n",
        "popular_avg = avg_ratings[avg_ratings['movieId'].isin(popular_movies[popular_movies >= 50].index)]\n",
        "popular_avg = popular_avg.sort_values(by='rating', ascending=False).head(10)\n",
        "print(popular_avg[['title', 'rating']])"
      ],
      "metadata": {
        "colab": {
          "base_uri": "https://localhost:8080/"
        },
        "id": "bOu-HSdCYBEu",
        "outputId": "4a61861e-9b84-43b1-d802-0e696c55601e"
      },
      "execution_count": 16,
      "outputs": [
        {
          "output_type": "stream",
          "name": "stdout",
          "text": [
            "Top 10 highest rated movies (with at least 50 ratings):\n",
            "                                                  title    rating\n",
            "277                    Shawshank Redemption, The (1994)  4.429022\n",
            "659                               Godfather, The (1972)  4.289062\n",
            "2224                                  Fight Club (1999)  4.272936\n",
            "974                               Cool Hand Luke (1967)  4.271930\n",
            "602   Dr. Strangelove or: How I Learned to Stop Worr...  4.268041\n",
            "686                                  Rear Window (1954)  4.261905\n",
            "921                      Godfather: Part II, The (1974)  4.259690\n",
            "6298                               Departed, The (2006)  4.252336\n",
            "913                                   Goodfellas (1990)  4.250000\n",
            "694                                   Casablanca (1942)  4.240000\n"
          ]
        }
      ]
    },
    {
      "cell_type": "markdown",
      "source": [
        "### New SectionTop 5 users with most ratings\n"
      ],
      "metadata": {
        "id": "04XnmsKMYeRp"
      }
    },
    {
      "cell_type": "code",
      "source": [
        "user_counts = ratings['userId'].value_counts()\n",
        "print(\"Top 5 users with most ratings:\")\n",
        "print(user_counts.head())"
      ],
      "metadata": {
        "id": "n5rmvnlGYUQ8"
      },
      "execution_count": null,
      "outputs": []
    },
    {
      "cell_type": "markdown",
      "source": [
        "###  Most popular genres\n"
      ],
      "metadata": {
        "id": "hDONlr2KYyiI"
      }
    },
    {
      "cell_type": "code",
      "source": [
        "# Split genres and count each\n",
        "genres = movies['genres'].str.split('|').explode()\n",
        "genre_counts = genres.value_counts()\n",
        "print(\"Top 5 most popular genres:\")\n",
        "print(genre_counts.head())"
      ],
      "metadata": {
        "id": "AqeFEzT6Y3kY"
      },
      "execution_count": null,
      "outputs": []
    },
    {
      "cell_type": "markdown",
      "source": [
        "###  Distribution of ratings"
      ],
      "metadata": {
        "id": "8kZzJUxCZMOB"
      }
    },
    {
      "cell_type": "code",
      "source": [
        "import matplotlib.pyplot as plt\n",
        "\n",
        "plt.hist(ratings['rating'], bins=[0.5, 1.0, 1.5, 2.0, 2.5, 3.0, 3.5, 4.0, 4.5, 5.0], edgecolor='black')\n",
        "plt.title('Distribution of Movie Ratings')\n",
        "plt.xlabel('Rating')\n",
        "plt.ylabel('Frequency')\n",
        "plt.xticks([0.5, 1.0, 1.5, 2.0, 2.5, 3.0, 3.5, 4.0, 4.5, 5.0])\n",
        "plt.show()"
      ],
      "metadata": {
        "colab": {
          "base_uri": "https://localhost:8080/",
          "height": 472
        },
        "id": "UdfpV228ZeGT",
        "outputId": "d2c5edcc-61b0-4002-982f-d1061b830abf"
      },
      "execution_count": 20,
      "outputs": [
        {
          "output_type": "display_data",
          "data": {
            "text/plain": [
              "<Figure size 640x480 with 1 Axes>"
            ],
            "image/png": "[encoded data removed]"
          },
          "metadata": {}
        }
      ]
    },
    {
      "cell_type": "markdown",
      "source": [
        "### **Top movies by genre**"
      ],
      "metadata": {
        "id": "qlwhbiVRaLVT"
      }
    },
    {
      "cell_type": "code",
      "source": [
        "# Example: Top comedy movies by average rating\n",
        "comedy_movies = movies[movies['genres'].str.contains('Comedy')]\n",
        "comedy_ratings = ratings[ratings['movieId'].isin(comedy_movies['movieId'])]\n",
        "comedy_avg = comedy_ratings.groupby('movieId')['rating'].mean().reset_index()\n",
        "comedy_avg = comedy_avg.merge(movies[['movieId', 'title']], on='movieId')\n",
        "comedy_avg = comedy_avg.sort_values(by='rating', ascending=False).head(10)\n",
        "print(\"Top 10 Comedy Movies by Average Rating:\")\n",
        "print(comedy_avg[['title', 'rating']])"
      ],
      "metadata": {
        "id": "vyQvZQJ-aVeA"
      },
      "execution_count": null,
      "outputs": []
    },
    {
      "cell_type": "markdown",
      "source": [
        "### Save cleaned data"
      ],
      "metadata": {
        "id": "-QfQ5FMhagHd"
      }
    },
    {
      "cell_type": "markdown",
      "source": [
        "###  With SVD model using surprise library:"
      ],
      "metadata": {
        "id": "l3rdhf2zb8ZK"
      }
    },
    {
      "cell_type": "code",
      "source": [
        "!pip install surprise"
      ],
      "metadata": {
        "colab": {
          "base_uri": "https://localhost:8080/"
        },
        "id": "lJduJ4nbcfHE",
        "outputId": "79fac8c6-1c48-43f2-aa98-fdb42084137a"
      },
      "execution_count": 26,
      "outputs": [
        {
          "output_type": "stream",
          "name": "stdout",
          "text": [
            "Requirement already satisfied: surprise in /usr/local/lib/python3.11/dist-packages (0.1)\n",
            "Requirement already satisfied: scikit-surprise in /usr/local/lib/python3.11/dist-packages (from surprise) (1.1.4)\n",
            "Requirement already satisfied: joblib>=1.2.0 in /usr/local/lib/python3.11/dist-packages (from scikit-surprise->surprise) (1.5.1)\n",
            "Requirement already satisfied: numpy>=1.19.5 in /usr/local/lib/python3.11/dist-packages (from scikit-surprise->surprise) (2.0.2)\n",
            "Requirement already satisfied: scipy>=1.6.0 in /usr/local/lib/python3.11/dist-packages (from scikit-surprise->surprise) (1.16.1)\n"
          ]
        }
      ]
    },
    {
      "cell_type": "code",
      "source": [
        "avg_ratings.to_csv('average_movie_ratings.csv', index=False)\n",
        "print(\"Average ratings saved to 'average_movie_ratings.csv'\")"
      ],
      "metadata": {
        "colab": {
          "base_uri": "https://localhost:8080/"
        },
        "id": "hyLgyvmpaq9F",
        "outputId": "5b62c020-f79d-4a5c-bc35-a2451a3d4301"
      },
      "execution_count": 22,
      "outputs": [
        {
          "output_type": "stream",
          "name": "stdout",
          "text": [
            "Average ratings saved to 'average_movie_ratings.csv'\n"
          ]
        }
      ]
    },
    {
      "cell_type": "code",
      "source": [
        "!pip install lightfm"
      ],
      "metadata": {
        "colab": {
          "base_uri": "https://localhost:8080/"
        },
        "id": "9OEj6ALAewo1",
        "outputId": "8f84f136-3ead-4eed-dde2-ec1379134285"
      },
      "execution_count": 37,
      "outputs": [
        {
          "output_type": "stream",
          "name": "stdout",
          "text": [
            "Requirement already satisfied: lightfm in /usr/local/lib/python3.11/dist-packages (1.17)\n",
            "Requirement already satisfied: numpy in /usr/local/lib/python3.11/dist-packages (from lightfm) (2.3.2)\n",
            "Requirement already satisfied: scipy>=0.17.0 in /usr/local/lib/python3.11/dist-packages (from lightfm) (1.16.1)\n",
            "Requirement already satisfied: requests in /usr/local/lib/python3.11/dist-packages (from lightfm) (2.32.3)\n",
            "Requirement already satisfied: scikit-learn in /usr/local/lib/python3.11/dist-packages (from lightfm) (1.6.1)\n",
            "Requirement already satisfied: charset-normalizer<4,>=2 in /usr/local/lib/python3.11/dist-packages (from requests->lightfm) (3.4.2)\n",
            "Requirement already satisfied: idna<4,>=2.5 in /usr/local/lib/python3.11/dist-packages (from requests->lightfm) (3.10)\n",
            "Requirement already satisfied: urllib3<3,>=1.21.1 in /usr/local/lib/python3.11/dist-packages (from requests->lightfm) (2.5.0)\n",
            "Requirement already satisfied: certifi>=2017.4.17 in /usr/local/lib/python3.11/dist-packages (from requests->lightfm) (2025.8.3)\n",
            "Requirement already satisfied: joblib>=1.2.0 in /usr/local/lib/python3.11/dist-packages (from scikit-learn->lightfm) (1.5.1)\n",
            "Requirement already satisfied: threadpoolctl>=3.1.0 in /usr/local/lib/python3.11/dist-packages (from scikit-learn->lightfm) (3.6.0)\n"
          ]
        }
      ]
    },
    {
      "cell_type": "code",
      "source": [
        "import pandas as pd\n",
        "from lightfm import LightFM\n",
        "from lightfm.data import Dataset\n",
        "\n",
        "# Load ratings data (update path if needed)\n",
        "ratings = pd.read_csv('ml-latest-small/ratings.csv')\n",
        "\n",
        "print(f\"Ratings shape: {ratings.shape}\")\n",
        "ratings.head()"
      ],
      "metadata": {
        "colab": {
          "base_uri": "https://localhost:8080/",
          "height": 224
        },
        "id": "INdTWYL9fOpl",
        "outputId": "3e2c05f9-c894-4c28-f783-e28596089b58"
      },
      "execution_count": 38,
      "outputs": [
        {
          "output_type": "stream",
          "name": "stdout",
          "text": [
            "Ratings shape: (100836, 4)\n"
          ]
        },
        {
          "output_type": "execute_result",
          "data": {
            "text/plain": [
              "   userId  movieId  rating  timestamp\n",
              "0       1        1     4.0  964982703\n",
              "1       1        3     4.0  964981247\n",
              "2       1        6     4.0  964982224\n",
              "3       1       47     5.0  964983815\n",
              "4       1       50     5.0  964982931"
            ],
            "text/html": [
              "\n",
              "  <div id=\"df-5fbe7476-95a2-4d29-942a-9e7e035af6bf\" class=\"colab-df-container\">\n",
              "    <div>\n",
              "<style scoped>\n",
              "    .dataframe tbody tr th:only-of-type {\n",
              "        vertical-align: middle;\n",
              "    }\n",
              "\n",
              "    .dataframe tbody tr th {\n",
              "        vertical-align: top;\n",
              "    }\n",
              "\n",
              "    .dataframe thead th {\n",
              "        text-align: right;\n",
              "    }\n",
              "</style>\n",
              "<table border=\"1\" class=\"dataframe\">\n",
              "  <thead>\n",
              "    <tr style=\"text-align: right;\">\n",
              "      <th></th>\n",
              "      <th>userId</th>\n",
              "      <th>movieId</th>\n",
              "      <th>rating</th>\n",
              "      <th>timestamp</th>\n",
              "    </tr>\n",
              "  </thead>\n",
              "  <tbody>\n",
              "    <tr>\n",
              "      <th>0</th>\n",
              "      <td>1</td>\n",
              "      <td>1</td>\n",
              "      <td>4.0</td>\n",
              "      <td>964982703</td>\n",
              "    </tr>\n",
              "    <tr>\n",
              "      <th>1</th>\n",
              "      <td>1</td>\n",
              "      <td>3</td>\n",
              "      <td>4.0</td>\n",
              "      <td>964981247</td>\n",
              "    </tr>\n",
              "    <tr>\n",
              "      <th>2</th>\n",
              "      <td>1</td>\n",
              "      <td>6</td>\n",
              "      <td>4.0</td>\n",
              "      <td>964982224</td>\n",
              "    </tr>\n",
              "    <tr>\n",
              "      <th>3</th>\n",
              "      <td>1</td>\n",
              "      <td>47</td>\n",
              "      <td>5.0</td>\n",
              "      <td>964983815</td>\n",
              "    </tr>\n",
              "    <tr>\n",
              "      <th>4</th>\n",
              "      <td>1</td>\n",
              "      <td>50</td>\n",
              "      <td>5.0</td>\n",
              "      <td>964982931</td>\n",
              "    </tr>\n",
              "  </tbody>\n",
              "</table>\n",
              "</div>\n",
              "    <div class=\"colab-df-buttons\">\n",
              "\n",
              "  <div class=\"colab-df-container\">\n",
              "    <button class=\"colab-df-convert\" onclick=\"convertToInteractive('df-5fbe7476-95a2-4d29-942a-9e7e035af6bf')\"\n",
              "            title=\"Convert this dataframe to an interactive table.\"\n",
              "            style=\"display:none;\">\n",
              "\n",
              "  <svg xmlns=\"http://www.w3.org/2000/svg\" height=\"24px\" viewBox=\"0 -960 960 960\">\n",
              "    <path d=\"M120-120v-720h720v720H120Zm60-500h600v-160H180v160Zm220 220h160v-160H400v160Zm0 220h160v-160H400v160ZM180-400h160v-160H180v160Zm440 0h160v-160H620v160ZM180-180h160v-160H180v160Zm440 0h160v-160H620v160Z\"/>\n",
              "  </svg>\n",
              "    </button>\n",
              "\n",
              "  <style>\n",
              "    .colab-df-container {\n",
              "      display:flex;\n",
              "      gap: 12px;\n",
              "    }\n",
              "\n",
              "    .colab-df-convert {\n",
              "      background-color: #E8F0FE;\n",
              "      border: none;\n",
              "      border-radius: 50%;\n",
              "      cursor: pointer;\n",
              "      display: none;\n",
              "      fill: #1967D2;\n",
              "      height: 32px;\n",
              "      padding: 0 0 0 0;\n",
              "      width: 32px;\n",
              "    }\n",
              "\n",
              "    .colab-df-convert:hover {\n",
              "      background-color: #E2EBFA;\n",
              "      box-shadow: 0px 1px 2px rgba(60, 64, 67, 0.3), 0px 1px 3px 1px rgba(60, 64, 67, 0.15);\n",
              "      fill: #174EA6;\n",
              "    }\n",
              "\n",
              "    .colab-df-buttons div {\n",
              "      margin-bottom: 4px;\n",
              "    }\n",
              "\n",
              "    [theme=dark] .colab-df-convert {\n",
              "      background-color: #3B4455;\n",
              "      fill: #D2E3FC;\n",
              "    }\n",
              "\n",
              "    [theme=dark] .colab-df-convert:hover {\n",
              "      background-color: #434B5C;\n",
              "      box-shadow: 0px 1px 3px 1px rgba(0, 0, 0, 0.15);\n",
              "      filter: drop-shadow(0px 1px 2px rgba(0, 0, 0, 0.3));\n",
              "      fill: #FFFFFF;\n",
              "    }\n",
              "  </style>\n",
              "\n",
              "    <script>\n",
              "      const buttonEl =\n",
              "        document.querySelector('#df-5fbe7476-95a2-4d29-942a-9e7e035af6bf button.colab-df-convert');\n",
              "      buttonEl.style.display =\n",
              "        google.colab.kernel.accessAllowed ? 'block' : 'none';\n",
              "\n",
              "      async function convertToInteractive(key) {\n",
              "        const element = document.querySelector('#df-5fbe7476-95a2-4d29-942a-9e7e035af6bf');\n",
              "        const dataTable =\n",
              "          await google.colab.kernel.invokeFunction('convertToInteractive',\n",
              "                                                    [key], {});\n",
              "        if (!dataTable) return;\n",
              "\n",
              "        const docLinkHtml = 'Like what you see? Visit the ' +\n",
              "          '<a target=\"_blank\" href=https://colab.research.google.com/notebooks/data_table.ipynb>data table notebook</a>'\n",
              "          + ' to learn more about interactive tables.';\n",
              "        element.innerHTML = '';\n",
              "        dataTable['output_type'] = 'display_data';\n",
              "        await google.colab.output.renderOutput(dataTable, element);\n",
              "        const docLink = document.createElement('div');\n",
              "        docLink.innerHTML = docLinkHtml;\n",
              "        element.appendChild(docLink);\n",
              "      }\n",
              "    </script>\n",
              "  </div>\n",
              "\n",
              "\n",
              "    <div id=\"df-eb95d8c3-933e-40d7-b3dd-9e00e265f31e\">\n",
              "      <button class=\"colab-df-quickchart\" onclick=\"quickchart('df-eb95d8c3-933e-40d7-b3dd-9e00e265f31e')\"\n",
              "                title=\"Suggest charts\"\n",
              "                style=\"display:none;\">\n",
              "\n",
              "<svg xmlns=\"http://www.w3.org/2000/svg\" height=\"24px\"viewBox=\"0 0 24 24\"\n",
              "     width=\"24px\">\n",
              "    <g>\n",
              "        <path d=\"M19 3H5c-1.1 0-2 .9-2 2v14c0 1.1.9 2 2 2h14c1.1 0 2-.9 2-2V5c0-1.1-.9-2-2-2zM9 17H7v-7h2v7zm4 0h-2V7h2v10zm4 0h-2v-4h2v4z\"/>\n",
              "    </g>\n",
              "</svg>\n",
              "      </button>\n",
              "\n",
              "<style>\n",
              "  .colab-df-quickchart {\n",
              "      --bg-color: #E8F0FE;\n",
              "      --fill-color: #1967D2;\n",
              "      --hover-bg-color: #E2EBFA;\n",
              "      --hover-fill-color: #174EA6;\n",
              "      --disabled-fill-color: #AAA;\n",
              "      --disabled-bg-color: #DDD;\n",
              "  }\n",
              "\n",
              "  [theme=dark] .colab-df-quickchart {\n",
              "      --bg-color: #3B4455;\n",
              "      --fill-color: #D2E3FC;\n",
              "      --hover-bg-color: #434B5C;\n",
              "      --hover-fill-color: #FFFFFF;\n",
              "      --disabled-bg-color: #3B4455;\n",
              "      --disabled-fill-color: #666;\n",
              "  }\n",
              "\n",
              "  .colab-df-quickchart {\n",
              "    background-color: var(--bg-color);\n",
              "    border: none;\n",
              "    border-radius: 50%;\n",
              "    cursor: pointer;\n",
              "    display: none;\n",
              "    fill: var(--fill-color);\n",
              "    height: 32px;\n",
              "    padding: 0;\n",
              "    width: 32px;\n",
              "  }\n",
              "\n",
              "  .colab-df-quickchart:hover {\n",
              "    background-color: var(--hover-bg-color);\n",
              "    box-shadow: 0 1px 2px rgba(60, 64, 67, 0.3), 0 1px 3px 1px rgba(60, 64, 67, 0.15);\n",
              "    fill: var(--button-hover-fill-color);\n",
              "  }\n",
              "\n",
              "  .colab-df-quickchart-complete:disabled,\n",
              "  .colab-df-quickchart-complete:disabled:hover {\n",
              "    background-color: var(--disabled-bg-color);\n",
              "    fill: var(--disabled-fill-color);\n",
              "    box-shadow: none;\n",
              "  }\n",
              "\n",
              "  .colab-df-spinner {\n",
              "    border: 2px solid var(--fill-color);\n",
              "    border-color: transparent;\n",
              "    border-bottom-color: var(--fill-color);\n",
              "    animation:\n",
              "      spin 1s steps(1) infinite;\n",
              "  }\n",
              "\n",
              "  @keyframes spin {\n",
              "    0% {\n",
              "      border-color: transparent;\n",
              "      border-bottom-color: var(--fill-color);\n",
              "      border-left-color: var(--fill-color);\n",
              "    }\n",
              "    20% {\n",
              "      border-color: transparent;\n",
              "      border-left-color: var(--fill-color);\n",
              "      border-top-color: var(--fill-color);\n",
              "    }\n",
              "    30% {\n",
              "      border-color: transparent;\n",
              "      border-left-color: var(--fill-color);\n",
              "      border-top-color: var(--fill-color);\n",
              "      border-right-color: var(--fill-color);\n",
              "    }\n",
              "    40% {\n",
              "      border-color: transparent;\n",
              "      border-right-color: var(--fill-color);\n",
              "      border-top-color: var(--fill-color);\n",
              "    }\n",
              "    60% {\n",
              "      border-color: transparent;\n",
              "      border-right-color: var(--fill-color);\n",
              "    }\n",
              "    80% {\n",
              "      border-color: transparent;\n",
              "      border-right-color: var(--fill-color);\n",
              "      border-bottom-color: var(--fill-color);\n",
              "    }\n",
              "    90% {\n",
              "      border-color: transparent;\n",
              "      border-bottom-color: var(--fill-color);\n",
              "    }\n",
              "  }\n",
              "</style>\n",
              "\n",
              "      <script>\n",
              "        async function quickchart(key) {\n",
              "          const quickchartButtonEl =\n",
              "            document.querySelector('#' + key + ' button');\n",
              "          quickchartButtonEl.disabled = true;  // To prevent multiple clicks.\n",
              "          quickchartButtonEl.classList.add('colab-df-spinner');\n",
              "          try {\n",
              "            const charts = await google.colab.kernel.invokeFunction(\n",
              "                'suggestCharts', [key], {});\n",
              "          } catch (error) {\n",
              "            console.error('Error during call to suggestCharts:', error);\n",
              "          }\n",
              "          quickchartButtonEl.classList.remove('colab-df-spinner');\n",
              "          quickchartButtonEl.classList.add('colab-df-quickchart-complete');\n",
              "        }\n",
              "        (() => {\n",
              "          let quickchartButtonEl =\n",
              "            document.querySelector('#df-eb95d8c3-933e-40d7-b3dd-9e00e265f31e button');\n",
              "          quickchartButtonEl.style.display =\n",
              "            google.colab.kernel.accessAllowed ? 'block' : 'none';\n",
              "        })();\n",
              "      </script>\n",
              "    </div>\n",
              "\n",
              "    </div>\n",
              "  </div>\n"
            ],
            "application/vnd.google.colaboratory.intrinsic+json": {
              "type": "dataframe",
              "variable_name": "ratings"
            }
          },
          "metadata": {},
          "execution_count": 38
        }
      ]
    },
    {
      "cell_type": "code",
      "source": [
        "dataset = Dataset()\n",
        "\n",
        "# Fit dataset with all unique users and items\n",
        "dataset.fit(users=ratings['userId'].unique(),\n",
        "            items=ratings['movieId'].unique())\n",
        "\n",
        "# Build interactions matrix\n",
        "(interactions, weights) = dataset.build_interactions([(row['userId'], row['movieId']) for idx, row in ratings.iterrows()])\n",
        "\n",
        "print(f\"Interactions matrix shape: {interactions.shape}\")"
      ],
      "metadata": {
        "colab": {
          "base_uri": "https://localhost:8080/"
        },
        "id": "GghGwyZ-fU96",
        "outputId": "5de9a6fc-fc97-48ac-cf96-547a65c135c0"
      },
      "execution_count": 39,
      "outputs": [
        {
          "output_type": "stream",
          "name": "stdout",
          "text": [
            "Interactions matrix shape: (610, 9724)\n"
          ]
        }
      ]
    },
    {
      "cell_type": "code",
      "source": [
        "model = LightFM(loss='warp')  # WARP loss is good for implicit feedback/recommendation\n",
        "\n",
        "model.fit(interactions, epochs=10, num_threads=4)"
      ],
      "metadata": {
        "colab": {
          "base_uri": "https://localhost:8080/"
        },
        "id": "zgPq-kavffRR",
        "outputId": "bd58f950-13e4-4e11-9629-85bffbfbad24"
      },
      "execution_count": 40,
      "outputs": [
        {
          "output_type": "execute_result",
          "data": {
            "text/plain": [
              "<lightfm.lightfm.LightFM at 0x7cb1e1fad550>"
            ]
          },
          "metadata": {},
          "execution_count": 40
        }
      ]
    },
    {
      "cell_type": "code",
      "metadata": {
        "colab": {
          "base_uri": "https://localhost:8080/"
        },
        "id": "da60274e",
        "outputId": "e19036ab-1e5e-49e0-b471-469d4ee2ebe2"
      },
      "source": [
        "!pip install numpy<2"
      ],
      "execution_count": 30,
      "outputs": [
        {
          "output_type": "stream",
          "name": "stdout",
          "text": [
            "/bin/bash: line 1: 2: No such file or directory\n"
          ]
        }
      ]
    },
    {
      "cell_type": "code",
      "source": [
        "def sample_recommendations(model, dataset, user_ids, movies_df, nrec_items=5):\n",
        "    n_users, n_items = interactions.shape\n",
        "\n",
        "    # Map internal LightFM item IDs to actual movieIds\n",
        "    item_id_map = {v: k for k, v in dataset._item_id_mapping.items()}\n",
        "\n",
        "    for user_id in user_ids:\n",
        "        # Get internal user index\n",
        "        user_internal_id = dataset._user_id_mapping[user_id]\n",
        "\n",
        "        # Predict scores for all items for this user\n",
        "        scores = model.predict(user_internal_id, np.arange(n_items))\n",
        "\n",
        "        # Get top n recommended item indices\n",
        "        top_items = sorted(range(len(scores)), key=lambda i: scores[i], reverse=True)[:nrec_items]\n",
        "\n",
        "        print(f\"Recommendations for User {user_id}:\")\n",
        "        for item_index in top_items:\n",
        "            movie_id = item_id_map[item_index]\n",
        "            movie_title = movies_df[movies_id_map[movie_id]]['title'].values[0] # Corrected: movies_df[movies_id_map[movie_id]] -> movies_df[movies_df['movieId'] == movie_id]\n",
        "            score = scores[item_index]\n",
        "            print(f\"  {movie_title} (score: {score:.2f})\")\n",
        "        print(\"\\n\")"
      ],
      "metadata": {
        "id": "puht7NpUfy2h"
      },
      "execution_count": 42,
      "outputs": []
    },
    {
      "cell_type": "code",
      "source": [
        "sample_recommendations(model, dataset, user_ids=[1, 10, 100], movies_df=movies, nrec_items=5)"
      ],
      "metadata": {
        "colab": {
          "base_uri": "https://localhost:8080/"
        },
        "id": "5-xCvjVugMhR",
        "outputId": "8cc96c4e-9ddc-4572-c69d-cc30b61b2ea7"
      },
      "execution_count": 43,
      "outputs": [
        {
          "output_type": "stream",
          "name": "stdout",
          "text": [
            "Recommendations for User 1:\n",
            "  Star Wars: Episode IV - A New Hope (1977) (score: 0.65)\n",
            "  Pulp Fiction (1994) (score: 0.33)\n",
            "  Matrix, The (1999) (score: 0.31)\n",
            "  Star Wars: Episode V - The Empire Strikes Back (1980) (score: 0.29)\n",
            "  Forrest Gump (1994) (score: 0.26)\n",
            "\n",
            "\n",
            "Recommendations for User 10:\n",
            "  Inception (2010) (score: 1.07)\n",
            "  Dark Knight, The (2008) (score: 1.05)\n",
            "  Up (2009) (score: 0.58)\n",
            "  Hangover, The (2009) (score: 0.50)\n",
            "  Inglourious Basterds (2009) (score: 0.39)\n",
            "\n",
            "\n",
            "Recommendations for User 100:\n",
            "  Pulp Fiction (1994) (score: 0.92)\n",
            "  Forrest Gump (1994) (score: 0.91)\n",
            "  Star Wars: Episode IV - A New Hope (1977) (score: 0.81)\n",
            "  Shawshank Redemption, The (1994) (score: 0.79)\n",
            "  Silence of the Lambs, The (1991) (score: 0.71)\n",
            "\n",
            "\n"
          ]
        }
      ]
    },
    {
      "cell_type": "code",
      "source": [
        "from lightfm.evaluation import precision_at_k, auc_score\n",
        "\n",
        "train_precision = precision_at_k(model, interactions, k=5).mean()\n",
        "train_auc = auc_score(model, interactions).mean()\n",
        "\n",
        "print(f'Train precision@5: {train_precision:.4f}')\n",
        "print(f'Train AUC score: {train_auc:.4f}')"
      ],
      "metadata": {
        "colab": {
          "base_uri": "https://localhost:8080/"
        },
        "id": "bIm7WOsegjLk",
        "outputId": "236a30e2-0eef-4ac8-c0c6-66d55db004d5"
      },
      "execution_count": 44,
      "outputs": [
        {
          "output_type": "stream",
          "name": "stdout",
          "text": [
            "Train precision@5: 0.5570\n",
            "Train AUC score: 0.9497\n"
          ]
        }
      ]
    },
    {
      "cell_type": "markdown",
      "metadata": {
        "id": "97c731a8"
      },
      "source": [
        "This cell installs the Kaggle command-line interface, which is needed to download datasets from Kaggle."
      ]
    },
    {
      "cell_type": "markdown",
      "metadata": {
        "id": "3d2e3f48"
      },
      "source": [
        "This cell creates a directory for Kaggle credentials, moves the uploaded `kaggle.json` file into it, and sets the appropriate file permissions."
      ]
    },
    {
      "cell_type": "markdown",
      "metadata": {
        "id": "8e0f8e6a"
      },
      "source": [
        "This cell downloads the MovieLens 20M dataset from Kaggle and then unzips the downloaded file."
      ]
    },
    {
      "cell_type": "markdown",
      "metadata": {
        "id": "b922625c"
      },
      "source": [
        "This cell imports the pandas library and loads the `movie.csv` and `rating.csv` files from the unzipped dataset into pandas DataFrames. It then displays the first few rows of each DataFrame."
      ]
    },
    {
      "cell_type": "markdown",
      "metadata": {
        "id": "110ef06b"
      },
      "source": [
        "This cell displays the first 20 rows, last 20 rows, and 20 random rows of the `ratings` DataFrame to get a sense of the data."
      ]
    },
    {
      "cell_type": "markdown",
      "metadata": {
        "id": "2ed248f0"
      },
      "source": [
        "This cell performs several data analysis steps:\n",
        "1. Downloads and unzips a smaller version of the MovieLens dataset for faster processing.\n",
        "2. Loads the `ratings.csv` and `movies.csv` from the small dataset into DataFrames.\n",
        "3. Prints the shapes and previews of the DataFrames.\n",
        "4. Checks for missing values in both DataFrames.\n",
        "5. Prints summary statistics for the 'rating' column.\n",
        "6. Identifies and displays the top 10 most rated movies."
      ]
    },
    {
      "cell_type": "markdown",
      "metadata": {
        "id": "e7b57486"
      },
      "source": [
        "This cell calculates the average rating for each movie, merges it with the movie titles, filters for movies with at least 50 ratings, and then displays the top 10 movies by average rating among those with sufficient ratings."
      ]
    },
    {
      "cell_type": "markdown",
      "metadata": {
        "id": "67e0e539"
      },
      "source": [
        "This cell counts how many ratings each user has provided and then displays the top 5 users with the most ratings."
      ]
    },
    {
      "cell_type": "markdown",
      "metadata": {
        "id": "944ecd5f"
      },
      "source": [
        "This cell splits the genres string for each movie into individual genres, counts the occurrences of each genre, and then displays the top 5 most popular genres."
      ]
    },
    {
      "cell_type": "markdown",
      "metadata": {
        "id": "59230aa7"
      },
      "source": [
        "This cell generates a histogram to visualize the distribution of movie ratings in the dataset."
      ]
    },
    {
      "cell_type": "markdown",
      "metadata": {
        "id": "ea901ad7"
      },
      "source": [
        "This cell demonstrates how to find the top movies within a specific genre (Comedy in this example) based on their average rating. It filters for movies in the genre, gets their ratings, calculates the average rating, and displays the top 10."
      ]
    },
    {
      "cell_type": "markdown",
      "metadata": {
        "id": "464d430f"
      },
      "source": [
        "This cell installs the `surprise` library, which is used for building and analyzing recommender systems."
      ]
    },
    {
      "cell_type": "markdown",
      "metadata": {
        "id": "9870fda0"
      },
      "source": [
        "This cell saves the `avg_ratings` DataFrame (containing the average rating for each movie) to a CSV file named `average_movie_ratings.csv`."
      ]
    },
    {
      "cell_type": "markdown",
      "metadata": {
        "id": "2bf3731a"
      },
      "source": [
        "This cell installs the `lightfm` library, another library for building recommender systems."
      ]
    },
    {
      "cell_type": "markdown",
      "metadata": {
        "id": "b66ba2ac"
      },
      "source": [
        "This cell imports necessary libraries for LightFM and loads the ratings data again (using the smaller dataset). It then prints the shape of the ratings DataFrame and displays the head."
      ]
    },
    {
      "cell_type": "markdown",
      "metadata": {
        "id": "3f311ed0"
      },
      "source": [
        "This cell prepares the data for the LightFM model by creating a `Dataset` object and building an interactions matrix from the ratings. The interactions matrix represents which users have interacted with which items (movies)."
      ]
    },
    {
      "cell_type": "markdown",
      "metadata": {
        "id": "1eb4cd59"
      },
      "source": [
        "This cell initializes and trains the LightFM model using the interactions matrix. The 'warp' loss function is used, which is suitable for implicit feedback."
      ]
    },
    {
      "cell_type": "markdown",
      "metadata": {
        "id": "05c885ba"
      },
      "source": [
        "This cell attempts to install a version of NumPy less than 2. This was likely an attempt to resolve a compatibility issue with the `surprise` library."
      ]
    },
    {
      "cell_type": "markdown",
      "metadata": {
        "id": "cf44eef8"
      },
      "source": [
        "This cell defines a Python function called `sample_recommendations` that takes the trained LightFM model, the dataset object, a list of user IDs, the movies DataFrame, and the number of recommendations to generate as input. It then generates and prints the top N movie recommendations for each specified user based on the model's predictions."
      ]
    },
    {
      "cell_type": "markdown",
      "metadata": {
        "id": "ab53f744"
      },
      "source": [
        "This cell calls the `sample_recommendations` function to generate and display the top 5 movie recommendations for users with IDs 1, 10, and 100 using the trained LightFM model."
      ]
    },
    {
      "cell_type": "markdown",
      "metadata": {
        "id": "81bbd31f"
      },
      "source": [
        "This cell evaluates the performance of the trained LightFM model using `precision_at_k` and `auc_score` metrics on the training data. It then prints the calculated precision@5 and AUC scores."
      ]
    }
  ]
}